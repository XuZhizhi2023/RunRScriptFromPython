{
 "cells": [
  {
   "cell_type": "code",
   "execution_count": 10,
   "metadata": {},
   "outputs": [],
   "source": [
    "from typing import Any\n",
    "import pyRserve\n",
    "R_SESSION_HOST = \"127.0.0.1\"\n",
    "R_SESSION_PORT = 6311"
   ]
  },
  {
   "cell_type": "code",
   "execution_count": 11,
   "metadata": {},
   "outputs": [],
   "source": [
    "def run_r_script(\n",
    "    r_script_path: str,\n",
    "    r_session_host: str,\n",
    "    r_session_port: int,\n",
    ") -> Any:\n",
    "    with open(r_script_path, \"r\") as file:\n",
    "        r_script = file.read()\n",
    "\n",
    "    session = pyRserve.connect(\n",
    "        host=r_session_host,\n",
    "        port=r_session_port,\n",
    "    )\n",
    "\n",
    "    results = session.eval(r_script)\n",
    "    session.close()\n",
    "    return results"
   ]
  },
  {
   "cell_type": "code",
   "execution_count": 12,
   "metadata": {},
   "outputs": [
    {
     "data": {
      "text/plain": [
       "7.0"
      ]
     },
     "execution_count": 12,
     "metadata": {},
     "output_type": "execute_result"
    }
   ],
   "source": [
    "run_r_script(\n",
    "    r_script_path=\"test.R\",\n",
    "    r_session_host=R_SESSION_HOST,\n",
    "    r_session_port=R_SESSION_PORT,\n",
    ")"
   ]
  }
 ],
 "metadata": {
  "kernelspec": {
   "display_name": "Python 3",
   "language": "python",
   "name": "python3"
  },
  "language_info": {
   "codemirror_mode": {
    "name": "ipython",
    "version": 3
   },
   "file_extension": ".py",
   "mimetype": "text/x-python",
   "name": "python",
   "nbconvert_exporter": "python",
   "pygments_lexer": "ipython3",
   "version": "3.9.13"
  }
 },
 "nbformat": 4,
 "nbformat_minor": 2
}
